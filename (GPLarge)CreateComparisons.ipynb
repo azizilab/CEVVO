{
  "nbformat": 4,
  "nbformat_minor": 0,
  "metadata": {
    "colab": {
      "provenance": []
    },
    "kernelspec": {
      "name": "python3",
      "display_name": "Python 3"
    },
    "language_info": {
      "name": "python"
    },
    "gpuClass": "standard"
  },
  "cells": [
    {
      "cell_type": "markdown",
      "source": [
        "#Boiler Plate"
      ],
      "metadata": {
        "id": "pIPKcvHe_4O-"
      }
    },
    {
      "cell_type": "code",
      "source": [
        "from google.colab import drive\n",
        "drive.mount('/content/drive')"
      ],
      "metadata": {
        "colab": {
          "base_uri": "https://localhost:8080/"
        },
        "id": "z6Zt9FhSgq5S",
        "outputId": "143bb965-2665-49cc-b2fa-9bf7e09923c1"
      },
      "execution_count": null,
      "outputs": [
        {
          "output_type": "stream",
          "name": "stdout",
          "text": [
            "Mounted at /content/drive\n"
          ]
        }
      ]
    },
    {
      "cell_type": "code",
      "source": [
        "import numpy as np\n",
        "import pickle\n",
        "import pandas as pd\n",
        "import matplotlib.pyplot as plt\n",
        "import gc"
      ],
      "metadata": {
        "id": "sKgKBg6fhDS1"
      },
      "execution_count": null,
      "outputs": []
    },
    {
      "cell_type": "code",
      "source": [
        "# Seed value\n",
        "# Apparently you may use different seed values at each stage\n",
        "seed_value= 0\n",
        "\n",
        "# 1. Set the `PYTHONHASHSEED` environment variable at a fixed value\n",
        "import os\n",
        "os.environ['PYTHONHASHSEED']=str(seed_value)\n",
        "\n",
        "# 2. Set the `python` built-in pseudo-random generator at a fixed value\n",
        "import random\n",
        "random.seed(seed_value)\n",
        "\n",
        "# 3. Set the `numpy` pseudo-random generator at a fixed value\n",
        "np.random.seed(seed_value)\n",
        "\n",
        "# 4. Set the `tensorflow` pseudo-random generator at a fixed value\n",
        "import tensorflow as tf\n",
        "tf.random.set_seed(seed_value)\n",
        "# for later versions: \n",
        "# tf.compat.v1.set_random_seed(seed_value)\n",
        "\n",
        "# 5. Configure a new global `tensorflow` session\n",
        "from keras import backend as K\n",
        "# session_conf = tf.ConfigProto(intra_op_parallelism_threads=1, inter_op_parallelism_threads=1)\n",
        "# sess = tf.Session(graph=tf.get_default_graph(), config=session_conf)\n",
        "# K.set_session(sess)\n",
        "# for later versions:\n",
        "session_conf = tf.compat.v1.ConfigProto(intra_op_parallelism_threads=1, inter_op_parallelism_threads=1)\n",
        "sess = tf.compat.v1.Session(graph=tf.compat.v1.get_default_graph(), config=session_conf)\n",
        "tf.compat.v1.keras.backend.set_session(sess)"
      ],
      "metadata": {
        "id": "ubePkDG1utZW"
      },
      "execution_count": null,
      "outputs": []
    },
    {
      "cell_type": "markdown",
      "source": [
        "#Load Data"
      ],
      "metadata": {
        "id": "qlFAWaGBADXD"
      }
    },
    {
      "cell_type": "markdown",
      "source": [
        "All Data can be found at this anonymous repo https://anonymous.4open.science/r/CHILData-4164/"
      ],
      "metadata": {
        "id": "2t0j4p6klXYE"
      }
    },
    {
      "cell_type": "code",
      "source": [
        "o = open(\"/content/drive/My Drive/ECMOProj/GaussianProcessForArtData/trainingPerfusionLargeCloseClin.pkl\", \"rb\")\n",
        "trainingPerfusion = pickle.load(o)\n",
        "o = open(\"/content/drive/My Drive/ECMOProj/GaussianProcessForArtData/validationPerfusionLargeCloseClin.pkl\", \"rb\")\n",
        "validationPerfusion = pickle.load(o)\n",
        "o = open(\"/content/drive/My Drive/ECMOProj/GaussianProcessForArtData/testPerfusionLargeCloseClin.pkl\", \"rb\")\n",
        "testPerfusion = pickle.load(o)\n",
        "\n",
        "o = open(\"/content/drive/My Drive/ECMOProj/GaussianProcessForArtData/trainingClinicalCloseClin.pkl\", \"rb\")\n",
        "trainingClinical = pickle.load(o)\n",
        "o = open(\"/content/drive/My Drive/ECMOProj/GaussianProcessForArtData/validationClinicalCloseClin.pkl\", \"rb\")\n",
        "validationClinical = pickle.load(o)\n",
        "o = open(\"/content/drive/My Drive/ECMOProj/GaussianProcessForArtData/testClinicalCloseClin.pkl\", \"rb\")\n",
        "testClinical = pickle.load(o)\n"
      ],
      "metadata": {
        "id": "4ZZ-vKTXizVZ"
      },
      "execution_count": null,
      "outputs": []
    },
    {
      "cell_type": "code",
      "source": [
        "labelTraining = np.append(np.ones(54), np.zeros(54))\n",
        "labelValTest = np.append(np.ones(18), np.zeros(18))"
      ],
      "metadata": {
        "id": "P6iaKqUUqtSt"
      },
      "execution_count": null,
      "outputs": []
    },
    {
      "cell_type": "markdown",
      "source": [
        "# Compare Methods"
      ],
      "metadata": {
        "id": "zVv7vr10ToAF"
      }
    },
    {
      "cell_type": "code",
      "source": [
        "from sklearn.linear_model import LogisticRegression\n",
        "from sklearn.metrics import roc_auc_score"
      ],
      "metadata": {
        "id": "V11MN8xIBYwO"
      },
      "execution_count": null,
      "outputs": []
    },
    {
      "cell_type": "code",
      "source": [
        "def bootstrapAUC(true, preds, bootstrap = 5000):\n",
        "  AUCTotal = np.zeros([0])\n",
        "  if((true.sum()<1) or (true.shape[0]-true.sum() <1)):\n",
        "    print(\"Less than 1 true or false\")\n",
        "    return AUCTotal\n",
        "  for x in range(bootstrap):\n",
        "    np.random.seed(x)\n",
        "    randInt = np.random.randint(0,true.shape[0], true.shape[0])\n",
        "    trueSub = true[randInt]\n",
        "    predSub = preds[randInt]\n",
        "\n",
        "    while((trueSub.sum()<1) or (trueSub.shape[0]-trueSub.sum() <1)):\n",
        "      randInt = np.random.randint(0,true.shape[0], true.shape[0])\n",
        "      trueSub = true[randInt]\n",
        "      predSub = preds[randInt]\n",
        "\n",
        "    AUC = roc_auc_score(trueSub, predSub)\n",
        "    AUCTotal = np.append(AUCTotal, AUC)\n",
        "\n",
        "  return AUCTotal"
      ],
      "metadata": {
        "id": "5hXIRP4cKidW"
      },
      "execution_count": null,
      "outputs": []
    },
    {
      "cell_type": "markdown",
      "source": [
        "#Logistic Regression"
      ],
      "metadata": {
        "id": "N55Zsa4ZBxDn"
      }
    },
    {
      "cell_type": "code",
      "source": [
        "def getAllPredsLR(modelFunc, perf, clin, testPerf, testClin):\n",
        "  samplePredictions = np.zeros([0])\n",
        "  sampleLabels = np.zeros([0])\n",
        "\n",
        "\n",
        "  for j in range(12):\n",
        "    for k in range(5):\n",
        "      print(\"{}-{}\".format(j,k))\n",
        "      #Create Dataset\n",
        "      X = np.append(perf[j,k].reshape(108,-1), clin[j,k], axis = 1) #The first column is the label\n",
        "      Y = labelTraining\n",
        "\n",
        "      #Create TEST\n",
        "      TEST = np.append(testPerf[j,k].reshape(36,-1), testClin[j,k], axis = 1) #The first column is the label\n",
        "\n",
        "      model = modelFunc(random_state = 0, max_iter = 10000)\n",
        "      model.fit(X,Y)\n",
        "      print(\"Training: \" + str(model.score(X,Y)) + \" Test: \" + str(model.score(TEST,labelValTest)))\n",
        "      prediction = model.predict_proba(TEST)[:,1]\n",
        "      samplePredictions = np.append(samplePredictions, prediction)\n",
        "      sampleLabels = np.append(sampleLabels, testClin[j,k])\n",
        "\n",
        "  \n",
        "  return samplePredictions, sampleLabels\n",
        "\n"
      ],
      "metadata": {
        "id": "kpOxHYslGdBK"
      },
      "execution_count": null,
      "outputs": []
    },
    {
      "cell_type": "code",
      "source": [
        "LRPreds, LRLabel = getAllPredsLR(LogisticRegression, trainingPerfusion, trainingClinical,testPerfusion, testClinical )"
      ],
      "metadata": {
        "id": "Wt0ty6e6HcZq"
      },
      "execution_count": null,
      "outputs": []
    },
    {
      "cell_type": "code",
      "source": [
        "f = open(\"/content/drive/My Drive/ECMOProj/GaussianProcessForArtData/LRPredsLargeCloseClin.pkl\",\"wb\")\n",
        "pickle.dump(LRPreds,f)\n",
        "f.close()"
      ],
      "metadata": {
        "id": "7v5vXE-yNmlN"
      },
      "execution_count": null,
      "outputs": []
    },
    {
      "cell_type": "code",
      "source": [
        "o = open(\"/content/drive/My Drive/ECMOProj/GaussianProcessForArtData/LRPredsLargeCloseClin.pkl\", \"rb\")\n",
        "LRPreds = pickle.load(o)\n",
        "LRLabel = np.tile(np.append(np.ones([18]), np.zeros([18])), 60)"
      ],
      "metadata": {
        "id": "uEcQ-B66AIhC"
      },
      "execution_count": null,
      "outputs": []
    },
    {
      "cell_type": "code",
      "source": [
        "LRAUCTotal = bootstrapAUC(LRLabel, LRPreds)"
      ],
      "metadata": {
        "id": "BmwjtuWlNuiY"
      },
      "execution_count": null,
      "outputs": []
    },
    {
      "cell_type": "code",
      "source": [
        "LRAUCTotal.mean()\n",
        "#0.8002603903396263"
      ],
      "metadata": {
        "colab": {
          "base_uri": "https://localhost:8080/"
        },
        "id": "TbjWdQZHN26M",
        "outputId": "9f380441-e419-42b3-89a6-10773f747b1b"
      },
      "execution_count": null,
      "outputs": [
        {
          "output_type": "execute_result",
          "data": {
            "text/plain": [
              "0.8002603903396263"
            ]
          },
          "metadata": {},
          "execution_count": 11
        }
      ]
    },
    {
      "cell_type": "code",
      "source": [
        "print(\"[{:.4f} - {:.4f}]\".format(np.percentile(LRAUCTotal, 2.5),np.percentile(LRAUCTotal, 97.5)))\n",
        "#[0.7814 - 0.8190]"
      ],
      "metadata": {
        "colab": {
          "base_uri": "https://localhost:8080/"
        },
        "id": "haBfhTW75z_b",
        "outputId": "970309fb-d882-463c-9222-6b85f151279b"
      },
      "execution_count": null,
      "outputs": [
        {
          "output_type": "stream",
          "name": "stdout",
          "text": [
            "[0.7814 - 0.8190]\n"
          ]
        }
      ]
    },
    {
      "cell_type": "markdown",
      "source": [
        "# Decision Tree"
      ],
      "metadata": {
        "id": "KDyBgeQwTPFi"
      }
    },
    {
      "cell_type": "code",
      "source": [
        "from sklearn.tree import DecisionTreeClassifier"
      ],
      "metadata": {
        "id": "E1v1bKM6TRCD"
      },
      "execution_count": null,
      "outputs": []
    },
    {
      "cell_type": "code",
      "source": [
        "def getAllPredsDT(perf, clin, testPerf, testClin):\n",
        "  samplePredictions = np.zeros([0])\n",
        "  sampleLabels = np.zeros([0])\n",
        "\n",
        "\n",
        "  for j in range(12):\n",
        "    for k in range(5):\n",
        "      print(\"{}-{}\".format(j,k))\n",
        "      #Create Dataset\n",
        "      X = np.append(perf[j,k].reshape(108,-1), clin[j,k], axis = 1) \n",
        "      Y = labelTraining\n",
        "\n",
        "      #Create TEST\n",
        "      TEST = np.append(testPerf[j,k].reshape(36,-1), testClin[j,k], axis = 1) #The first column is the label\n",
        "\n",
        "      model = DecisionTreeClassifier(random_state = 0)\n",
        "      model.fit(X,Y)\n",
        "      print(\"Training: \" + str(model.score(X,Y)) + \" Test: \" + str(model.score(TEST,labelValTest)))\n",
        "      prediction = model.predict_proba(TEST)[:,1]\n",
        "      samplePredictions = np.append(samplePredictions, prediction)\n",
        "      sampleLabels = np.append(sampleLabels, labelValTest)\n",
        "\n",
        "  \n",
        "  return samplePredictions, sampleLabels\n",
        "\n"
      ],
      "metadata": {
        "id": "8vTJnlKdTxM7"
      },
      "execution_count": null,
      "outputs": []
    },
    {
      "cell_type": "code",
      "source": [
        "DTPreds, DTLabel = getAllPredsDT(trainingPerfusion, trainingClinical,testPerfusion, testClinical )"
      ],
      "metadata": {
        "id": "AkoykYAQUEB2"
      },
      "execution_count": null,
      "outputs": []
    },
    {
      "cell_type": "code",
      "source": [
        "f = open(\"/content/drive/My Drive/ECMOProj/GaussianProcessForArtData/DTPredsLargeCloseClin.pkl\",\"wb\")\n",
        "pickle.dump(DTPreds,f)\n",
        "f.close()\n"
      ],
      "metadata": {
        "id": "AibMADN0UEB2"
      },
      "execution_count": null,
      "outputs": []
    },
    {
      "cell_type": "code",
      "source": [
        "o = open(\"/content/drive/My Drive/ECMOProj/GaussianProcessForArtData/DTPredsLargeCloseClin.pkl\", \"rb\")\n",
        "DTPreds = pickle.load(o)"
      ],
      "metadata": {
        "id": "AX7RhifeAQ-z"
      },
      "execution_count": null,
      "outputs": []
    },
    {
      "cell_type": "code",
      "source": [
        "DTAUCTotal = bootstrapAUC(LRLabel, DTPreds)"
      ],
      "metadata": {
        "id": "666inEf-UEB2"
      },
      "execution_count": null,
      "outputs": []
    },
    {
      "cell_type": "code",
      "source": [
        "DTAUCTotal.mean()\n",
        "#0.6676331187406009"
      ],
      "metadata": {
        "colab": {
          "base_uri": "https://localhost:8080/"
        },
        "id": "hM5rUkG9UEB2",
        "outputId": "621a90ad-7f18-4a46-a627-ff09a41b5a0a"
      },
      "execution_count": null,
      "outputs": [
        {
          "output_type": "execute_result",
          "data": {
            "text/plain": [
              "0.6676331187406009"
            ]
          },
          "metadata": {},
          "execution_count": 17
        }
      ]
    },
    {
      "cell_type": "code",
      "source": [
        "print(\"[{:.4f} - {:.4f}]\".format(np.percentile(DTAUCTotal, 2.5),np.percentile(DTAUCTotal, 97.5)))\n",
        "#[0.6502 - 0.6849]"
      ],
      "metadata": {
        "colab": {
          "base_uri": "https://localhost:8080/"
        },
        "id": "LKDWRCE-6DhY",
        "outputId": "41b39513-d262-426d-9061-e11b96345962"
      },
      "execution_count": null,
      "outputs": [
        {
          "output_type": "stream",
          "name": "stdout",
          "text": [
            "[0.6502 - 0.6849]\n"
          ]
        }
      ]
    },
    {
      "cell_type": "markdown",
      "source": [
        "# Native Bayes"
      ],
      "metadata": {
        "id": "TRRVRn5NUUjD"
      }
    },
    {
      "cell_type": "code",
      "source": [
        "from sklearn.naive_bayes import GaussianNB"
      ],
      "metadata": {
        "id": "8FxuFcLDVkgn"
      },
      "execution_count": null,
      "outputs": []
    },
    {
      "cell_type": "code",
      "source": [
        "def getAllPredsNB(perf, clin, testPerf, testClin):\n",
        "  samplePredictions = np.zeros([0])\n",
        "  sampleLabels = np.zeros([0])\n",
        "\n",
        "\n",
        "  for j in range(12):\n",
        "    for k in range(5):\n",
        "      print(\"{}-{}\".format(j,k))\n",
        "      #Create Dataset\n",
        "      X = np.append(perf[j,k].reshape(108,-1), clin[j,k], axis = 1) \n",
        "      Y = labelTraining\n",
        "\n",
        "      #Create TEST\n",
        "      TEST = np.append(testPerf[j,k].reshape(36,-1), testClin[j,k], axis = 1) \n",
        "\n",
        "      model = GaussianNB()\n",
        "      model.fit(X,Y)\n",
        "      print(\"Training: \" + str(model.score(X,Y)) + \" Test: \" + str(model.score(TEST,labelValTest)))\n",
        "      prediction = model.predict_proba(TEST)[:,1]\n",
        "      samplePredictions = np.append(samplePredictions, prediction)\n",
        "      sampleLabels = np.append(sampleLabels, labelValTest)\n",
        "\n",
        "  \n",
        "  return samplePredictions, sampleLabels\n",
        "\n"
      ],
      "metadata": {
        "id": "7Ounz8zeVkgn"
      },
      "execution_count": null,
      "outputs": []
    },
    {
      "cell_type": "code",
      "source": [
        "NBPreds, NBLabel = getAllPredsNB(trainingPerfusion, trainingClinical,testPerfusion, testClinical)"
      ],
      "metadata": {
        "id": "yQeVrSDUVkgo"
      },
      "execution_count": null,
      "outputs": []
    },
    {
      "cell_type": "code",
      "source": [
        "f = open(\"/content/drive/My Drive/ECMOProj/GaussianProcessForArtData/NBPredsLargeCloseClin.pkl\",\"wb\")\n",
        "pickle.dump(NBPreds,f)\n",
        "f.close()\n"
      ],
      "metadata": {
        "id": "TgJ2sGFeVy9U"
      },
      "execution_count": null,
      "outputs": []
    },
    {
      "cell_type": "code",
      "source": [
        "o = open(\"/content/drive/My Drive/ECMOProj/GaussianProcessForArtData/NBPredsLargeCloseClin.pkl\", \"rb\")\n",
        "NBPreds = pickle.load(o)"
      ],
      "metadata": {
        "id": "mBRy4i3HAa4c"
      },
      "execution_count": null,
      "outputs": []
    },
    {
      "cell_type": "code",
      "source": [
        "NBAUCTotal = bootstrapAUC(LRLabel, NBPreds)"
      ],
      "metadata": {
        "id": "RGm8tqPJV4E0"
      },
      "execution_count": null,
      "outputs": []
    },
    {
      "cell_type": "code",
      "source": [
        "NBAUCTotal.mean()\n",
        "#0.7342983971355588"
      ],
      "metadata": {
        "colab": {
          "base_uri": "https://localhost:8080/"
        },
        "id": "LmMftCMJV4E0",
        "outputId": "4e68de8a-ca7a-4ead-f00c-939aecf123ae"
      },
      "execution_count": null,
      "outputs": [
        {
          "output_type": "execute_result",
          "data": {
            "text/plain": [
              "0.7342983971355588"
            ]
          },
          "metadata": {},
          "execution_count": 23
        }
      ]
    },
    {
      "cell_type": "code",
      "source": [
        "print(\"[{:.4f} - {:.4f}]\".format(np.percentile(NBAUCTotal, 2.5),np.percentile(NBAUCTotal, 97.5)))\n",
        "#[0.7167 - 0.7517]"
      ],
      "metadata": {
        "id": "WT6RRKBQV7ZS",
        "colab": {
          "base_uri": "https://localhost:8080/"
        },
        "outputId": "d374926a-3497-47ef-9ed5-ba5de1285d46"
      },
      "execution_count": null,
      "outputs": [
        {
          "output_type": "stream",
          "name": "stdout",
          "text": [
            "[0.7167 - 0.7517]\n"
          ]
        }
      ]
    },
    {
      "cell_type": "code",
      "source": [],
      "metadata": {
        "id": "gDho0snN6Lmw"
      },
      "execution_count": null,
      "outputs": []
    },
    {
      "cell_type": "markdown",
      "source": [
        "# MLPClassifier"
      ],
      "metadata": {
        "id": "gz8hbWKqTtDC"
      }
    },
    {
      "cell_type": "code",
      "source": [
        "import tensorflow as tf\n",
        "from tensorflow.keras.callbacks import EarlyStopping, ModelCheckpoint\n",
        "!pip install keras-tuner\n",
        "import kerastuner as kt\n",
        "from kerastuner import HyperParameters as hp"
      ],
      "metadata": {
        "id": "xJvmVqaaXwdT"
      },
      "execution_count": null,
      "outputs": []
    },
    {
      "cell_type": "code",
      "source": [
        "def returnModel(hp):\n",
        "  model = tf.keras.Sequential()\n",
        "  units = hp.Int(\"units\", 1,16435, 64)\n",
        "  model.add(tf.keras.layers.Dense(units, activation = \"selu\", input_shape=(16435,))) #16464\n",
        "  model.add(tf.keras.layers.Dense(1, activation = \"sigmoid\"))\n",
        "  opt = tf.keras.optimizers.Adam(learning_rate=0.00001)\n",
        "  model.compile(optimizer=opt, loss='binary_crossentropy')\n",
        "  return model"
      ],
      "metadata": {
        "id": "bWD-Mpc_Xwgp"
      },
      "execution_count": null,
      "outputs": []
    },
    {
      "cell_type": "code",
      "source": [
        "tuner = kt.BayesianOptimization(\n",
        "  returnModel,                   \n",
        "  objective= \"val_loss\",\n",
        "  max_trials=60,\n",
        "  seed =0, \n",
        "  overwrite=True,\n",
        "  beta = 100          \n",
        ")\n",
        "XTrain = np.append(trainingPerfusion[0,0].reshape(108,-1), trainingClinical[0,0], axis = 1) \n",
        "YTrain = labelTraining\n",
        "\n",
        "XVal = np.append(validationPerfusion[0,0].reshape(36,-1), validationClinical[0,0], axis = 1)\n",
        "YVal = labelValTest\n",
        "\n",
        "es = EarlyStopping(monitor='val_loss', mode='min', verbose=0,  patience=20, min_delta = 0.001)\n",
        "tuner.search(                                                           \n",
        "    XTrain,\n",
        "    YTrain,\n",
        "    epochs=10000,                                                         \n",
        "    validation_data = (XVal, YVal),\n",
        "    callbacks=[es],\n",
        "    verbose=1,\n",
        ")\n",
        "print(tuner.get_best_hyperparameters(1)[0].values)"
      ],
      "metadata": {
        "id": "fDa37Lq5uDz9"
      },
      "execution_count": null,
      "outputs": []
    },
    {
      "cell_type": "code",
      "source": [
        "def returnTrueModel():\n",
        "  model = tf.keras.Sequential()\n",
        "  model.add(tf.keras.layers.Dense(1, activation = \"selu\", input_shape=(16435,))) \n",
        "  model.add(tf.keras.layers.Dense(1, activation = \"sigmoid\"))\n",
        "  opt = tf.keras.optimizers.Adam(learning_rate=0.00001)\n",
        "  model.compile(optimizer=opt, loss='binary_crossentropy')\n",
        "  return model"
      ],
      "metadata": {
        "id": "X4gkwZDzuD2d"
      },
      "execution_count": null,
      "outputs": []
    },
    {
      "cell_type": "code",
      "source": [
        "def getAllPredsMLP(modelFunc, perf, clin, valPerf, valClin, testPerf, testClin):\n",
        "  samplePredictions = np.zeros([0])\n",
        "  sampleLabels = np.zeros([0])\n",
        "\n",
        "\n",
        "  for j in range(12):\n",
        "    for k in range(5):\n",
        "      print(\"{}-{}\".format(j,k))\n",
        "      #Create Dataset\n",
        "      XTrain = np.append(perf[j,k].reshape(108,-1), clin[j,k], axis = 1) \n",
        "      YTrain = labelTraining\n",
        "\n",
        "      XVal = np.append(valPerf[j,k].reshape(36,-1), valClin[j,k], axis = 1) \n",
        "      YVal = labelValTest\n",
        "\n",
        "      #Create TEST\n",
        "      TEST = np.append(testPerf[j,k].reshape(36,-1), testClin[j,k], axis = 1)\n",
        "      es = EarlyStopping(monitor='val_loss', mode='min', verbose=0,  patience=20, min_delta = 0.001)\n",
        "      mc = ModelCheckpoint(\"/content/drive/My Drive/ECMOProj/GaussianProcessForArtData/DENSELarge/CloseClinModelK{}Fold{}.h5\".format(j, k), monitor='val_loss', mode='min', verbose=0, save_best_only=True)\n",
        "\n",
        "      model = modelFunc()\n",
        "      model.fit(\n",
        "          XTrain,\n",
        "          YTrain,\n",
        "          epochs = 10000,\n",
        "          validation_data = (XVal,YVal),\n",
        "          verbose = 1,\n",
        "          callbacks=[es, mc]\n",
        "          )\n",
        "      \n",
        "      prediction = model.predict(TEST)\n",
        "      samplePredictions = np.append(samplePredictions, prediction)\n",
        "      sampleLabels = np.append(sampleLabels, labelValTest)\n",
        "\n",
        "  \n",
        "  return samplePredictions, sampleLabels\n",
        "\n"
      ],
      "metadata": {
        "id": "r7sM5R40TXJA"
      },
      "execution_count": null,
      "outputs": []
    },
    {
      "cell_type": "code",
      "source": [
        "MLPPreds, MLPLabel = getAllPredsMLP(returnTrueModel,trainingPerfusion, trainingClinical,validationPerfusion, validationClinical,testPerfusion, testClinical )"
      ],
      "metadata": {
        "id": "_IH64Mk7rxPT"
      },
      "execution_count": null,
      "outputs": []
    },
    {
      "cell_type": "code",
      "source": [
        "f = open(\"/content/drive/My Drive/ECMOProj/GaussianProcessForArtData/MLPPredsLargeCloseClin.pkl\",\"wb\")\n",
        "pickle.dump(MLPPreds,f)\n",
        "f.close()\n"
      ],
      "metadata": {
        "id": "Io7eFwCvr9yT"
      },
      "execution_count": null,
      "outputs": []
    },
    {
      "cell_type": "code",
      "source": [
        "o = open(\"/content/drive/My Drive/ECMOProj/GaussianProcessForArtData/MLPPredsLargeCloseClin.pkl\", \"rb\")\n",
        "MLPPreds = pickle.load(o)"
      ],
      "metadata": {
        "id": "TdDP6yxsAltP"
      },
      "execution_count": null,
      "outputs": []
    },
    {
      "cell_type": "code",
      "source": [
        "MLPAUCTotal = bootstrapAUC(LRLabel, MLPPreds)"
      ],
      "metadata": {
        "id": "JxDQ7AKw1ki4"
      },
      "execution_count": null,
      "outputs": []
    },
    {
      "cell_type": "code",
      "source": [
        "MLPAUCTotal.mean()\n",
        "#0.7140874092124346"
      ],
      "metadata": {
        "colab": {
          "base_uri": "https://localhost:8080/"
        },
        "id": "IhISOBPK1ki5",
        "outputId": "c56ee110-b605-453b-90f9-9d5d8bdd4ac0"
      },
      "execution_count": null,
      "outputs": [
        {
          "output_type": "execute_result",
          "data": {
            "text/plain": [
              "0.7140874092124346"
            ]
          },
          "metadata": {},
          "execution_count": 29
        }
      ]
    },
    {
      "cell_type": "code",
      "source": [
        "print(\"[{:.4f} - {:.4f}]\".format(np.percentile(MLPAUCTotal, 2.5),np.percentile(MLPAUCTotal, 97.5)))\n",
        "#[0.6924 - 0.7352]"
      ],
      "metadata": {
        "colab": {
          "base_uri": "https://localhost:8080/"
        },
        "id": "EjhCo_Zn58uX",
        "outputId": "90b27085-ec79-4492-afa0-73c9920a908c"
      },
      "execution_count": null,
      "outputs": [
        {
          "output_type": "stream",
          "name": "stdout",
          "text": [
            "[0.6924 - 0.7352]\n"
          ]
        }
      ]
    },
    {
      "cell_type": "code",
      "source": [],
      "metadata": {
        "id": "ew-rwD9NAm_Y"
      },
      "execution_count": null,
      "outputs": []
    },
    {
      "cell_type": "markdown",
      "source": [
        "#Comparison with L=1\n",
        "Code is is the notebook titled (GP)CreateComparisons.ipynb"
      ],
      "metadata": {
        "id": "9EH2U9rxAnvU"
      }
    },
    {
      "cell_type": "code",
      "source": [],
      "metadata": {
        "id": "wwT0rfzYAvL2"
      },
      "execution_count": null,
      "outputs": []
    }
  ]
}